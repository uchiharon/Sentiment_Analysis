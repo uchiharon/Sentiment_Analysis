{
  "nbformat": 4,
  "nbformat_minor": 0,
  "metadata": {
    "colab": {
      "name": "Sentiment_Analysis_of_Tweets.ipynb",
      "provenance": [],
      "collapsed_sections": [],
      "authorship_tag": "ABX9TyOST1RmjOkqTX6HU1589e5c"
    },
    "kernelspec": {
      "name": "python3",
      "display_name": "Python 3"
    },
    "language_info": {
      "name": "python"
    }
  },
  "cells": [
    {
      "cell_type": "markdown",
      "source": [
        "#**Sentiment Analysis of Tweets using Python**"
      ],
      "metadata": {
        "id": "vJiNcrw-Vxta"
      }
    },
    {
      "cell_type": "code",
      "source": [
        "# Mount g-drive for storage\n",
        "from google.colab import drive\n",
        "drive.mount('/content/drive')"
      ],
      "metadata": {
        "colab": {
          "base_uri": "https://localhost:8080/"
        },
        "id": "z2AhPedPXUld",
        "outputId": "99d47af2-9e2a-44ef-b715-fd0d4770ae18"
      },
      "execution_count": 3,
      "outputs": [
        {
          "output_type": "stream",
          "name": "stdout",
          "text": [
            "Mounted at /content/drive\n"
          ]
        }
      ]
    },
    {
      "cell_type": "code",
      "execution_count": 28,
      "metadata": {
        "id": "MBhIBK34Vwb_"
      },
      "outputs": [],
      "source": [
        "# Imoort the libraries\n",
        "import tweepy\n",
        "from textblob import TextBlob\n",
        "from wordcloud import WordCloud\n",
        "import pandas as pd\n",
        "import numpy as np\n",
        "import re\n",
        "import matplotlib.pyplot as plt\n",
        "plt.style.use(\"fivethirtyeight\")"
      ]
    },
    {
      "cell_type": "code",
      "source": [
        "# Load twitter developer details\n",
        "from google.colab import files\n",
        "login = files.upload()"
      ],
      "metadata": {
        "colab": {
          "resources": {
            "http://localhost:8080/nbextensions/google.colab/files.js": {
              "data": "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",
              "ok": true,
              "headers": [
                [
                  "content-type",
                  "application/javascript"
                ]
              ],
              "status": 200,
              "status_text": ""
            }
          },
          "base_uri": "https://localhost:8080/",
          "height": 74
        },
        "id": "htYsZhHtXD1x",
        "outputId": "3b0621a0-171c-4c60-d0af-8625325bcddc"
      },
      "execution_count": 6,
      "outputs": [
        {
          "output_type": "display_data",
          "data": {
            "text/plain": [
              "<IPython.core.display.HTML object>"
            ],
            "text/html": [
              "\n",
              "     <input type=\"file\" id=\"files-bf49f637-5c83-4a0f-aaa0-28e070740997\" name=\"files[]\" multiple disabled\n",
              "        style=\"border:none\" />\n",
              "     <output id=\"result-bf49f637-5c83-4a0f-aaa0-28e070740997\">\n",
              "      Upload widget is only available when the cell has been executed in the\n",
              "      current browser session. Please rerun this cell to enable.\n",
              "      </output>\n",
              "      <script src=\"/nbextensions/google.colab/files.js\"></script> "
            ]
          },
          "metadata": {}
        },
        {
          "output_type": "stream",
          "name": "stdout",
          "text": [
            "Saving login.csv to login.csv\n"
          ]
        }
      ]
    },
    {
      "cell_type": "code",
      "source": [
        "log = pd.read_csv('login.csv')\n",
        "log.head()"
      ],
      "metadata": {
        "colab": {
          "base_uri": "https://localhost:8080/",
          "height": 112
        },
        "id": "YD34C1t2bpAq",
        "outputId": "c8d01498-50a0-4bdb-b60d-3ba394989669"
      },
      "execution_count": 25,
      "outputs": [
        {
          "output_type": "execute_result",
          "data": {
            "text/plain": [
              "       type                                                key  \\\n",
              "0  customer                          nan   \n",
              "1    access  nan...   \n",
              "\n",
              "                                              secret  \n",
              "0  nan...  \n",
              "1      naa  "
            ],
            "text/html": [
              "\n",
              "  <div id=\"df-4f5a4a9a-1427-4743-b8a2-eab6a6278aa4\">\n",
              "    <div class=\"colab-df-container\">\n",
              "      <div>\n",
              "<style scoped>\n",
              "    .dataframe tbody tr th:only-of-type {\n",
              "        vertical-align: middle;\n",
              "    }\n",
              "\n",
              "    .dataframe tbody tr th {\n",
              "        vertical-align: top;\n",
              "    }\n",
              "\n",
              "    .dataframe thead th {\n",
              "        text-align: right;\n",
              "    }\n",
              "</style>\n",
              "<table border=\"1\" class=\"dataframe\">\n",
              "  <thead>\n",
              "    <tr style=\"text-align: right;\">\n",
              "      <th></th>\n",
              "      <th>type</th>\n",
              "      <th>key</th>\n",
              "      <th>secret</th>\n",
              "    </tr>\n",
              "  </thead>\n",
              "  <tbody>\n",
              "    <tr>\n",
              "      <th>0</th>\n",
              "      <td>customer</td>\n",
              "      <td>02xUHuCgjuQF5KAAm34YEMrT7</td>\n",
              "      <td>3Lbhe6RKb9cugVMlou4hes15ZJp3nSlSNPiseucd2t8zX8...</td>\n",
              "    </tr>\n",
              "    <tr>\n",
              "      <th>1</th>\n",
              "      <td>access</td>\n",
              "      <td>1082656464714547202-mqMJMzLQ0QqocGZG0WQ6VsZTFm...</td>\n",
              "      <td>HxlFgwqMuO7eGauUN97SnmEww1yvuqx7LhnfOKlmzgsjr</td>\n",
              "    </tr>\n",
              "  </tbody>\n",
              "</table>\n",
              "</div>\n",
              "      <button class=\"colab-df-convert\" onclick=\"convertToInteractive('df-4f5a4a9a-1427-4743-b8a2-eab6a6278aa4')\"\n",
              "              title=\"Convert this dataframe to an interactive table.\"\n",
              "              style=\"display:none;\">\n",
              "        \n",
              "  <svg xmlns=\"http://www.w3.org/2000/svg\" height=\"24px\"viewBox=\"0 0 24 24\"\n",
              "       width=\"24px\">\n",
              "    <path d=\"M0 0h24v24H0V0z\" fill=\"none\"/>\n",
              "    <path d=\"M18.56 5.44l.94 2.06.94-2.06 2.06-.94-2.06-.94-.94-2.06-.94 2.06-2.06.94zm-11 1L8.5 8.5l.94-2.06 2.06-.94-2.06-.94L8.5 2.5l-.94 2.06-2.06.94zm10 10l.94 2.06.94-2.06 2.06-.94-2.06-.94-.94-2.06-.94 2.06-2.06.94z\"/><path d=\"M17.41 7.96l-1.37-1.37c-.4-.4-.92-.59-1.43-.59-.52 0-1.04.2-1.43.59L10.3 9.45l-7.72 7.72c-.78.78-.78 2.05 0 2.83L4 21.41c.39.39.9.59 1.41.59.51 0 1.02-.2 1.41-.59l7.78-7.78 2.81-2.81c.8-.78.8-2.07 0-2.86zM5.41 20L4 18.59l7.72-7.72 1.47 1.35L5.41 20z\"/>\n",
              "  </svg>\n",
              "      </button>\n",
              "      \n",
              "  <style>\n",
              "    .colab-df-container {\n",
              "      display:flex;\n",
              "      flex-wrap:wrap;\n",
              "      gap: 12px;\n",
              "    }\n",
              "\n",
              "    .colab-df-convert {\n",
              "      background-color: #E8F0FE;\n",
              "      border: none;\n",
              "      border-radius: 50%;\n",
              "      cursor: pointer;\n",
              "      display: none;\n",
              "      fill: #1967D2;\n",
              "      height: 32px;\n",
              "      padding: 0 0 0 0;\n",
              "      width: 32px;\n",
              "    }\n",
              "\n",
              "    .colab-df-convert:hover {\n",
              "      background-color: #E2EBFA;\n",
              "      box-shadow: 0px 1px 2px rgba(60, 64, 67, 0.3), 0px 1px 3px 1px rgba(60, 64, 67, 0.15);\n",
              "      fill: #174EA6;\n",
              "    }\n",
              "\n",
              "    [theme=dark] .colab-df-convert {\n",
              "      background-color: #3B4455;\n",
              "      fill: #D2E3FC;\n",
              "    }\n",
              "\n",
              "    [theme=dark] .colab-df-convert:hover {\n",
              "      background-color: #434B5C;\n",
              "      box-shadow: 0px 1px 3px 1px rgba(0, 0, 0, 0.15);\n",
              "      filter: drop-shadow(0px 1px 2px rgba(0, 0, 0, 0.3));\n",
              "      fill: #FFFFFF;\n",
              "    }\n",
              "  </style>\n",
              "\n",
              "      <script>\n",
              "        const buttonEl =\n",
              "          document.querySelector('#df-4f5a4a9a-1427-4743-b8a2-eab6a6278aa4 button.colab-df-convert');\n",
              "        buttonEl.style.display =\n",
              "          google.colab.kernel.accessAllowed ? 'block' : 'none';\n",
              "\n",
              "        async function convertToInteractive(key) {\n",
              "          const element = document.querySelector('#df-4f5a4a9a-1427-4743-b8a2-eab6a6278aa4');\n",
              "          const dataTable =\n",
              "            await google.colab.kernel.invokeFunction('convertToInteractive',\n",
              "                                                     [key], {});\n",
              "          if (!dataTable) return;\n",
              "\n",
              "          const docLinkHtml = 'Like what you see? Visit the ' +\n",
              "            '<a target=\"_blank\" href=https://colab.research.google.com/notebooks/data_table.ipynb>data table notebook</a>'\n",
              "            + ' to learn more about interactive tables.';\n",
              "          element.innerHTML = '';\n",
              "          dataTable['output_type'] = 'display_data';\n",
              "          await google.colab.output.renderOutput(dataTable, element);\n",
              "          const docLink = document.createElement('div');\n",
              "          docLink.innerHTML = docLinkHtml;\n",
              "          element.appendChild(docLink);\n",
              "        }\n",
              "      </script>\n",
              "    </div>\n",
              "  </div>\n",
              "  "
            ]
          },
          "metadata": {},
          "execution_count": 25
        }
      ]
    },
    {
      "cell_type": "code",
      "source": [
        "# Twitter API credentials\n",
        "consumer_key = log['key'][0]\n",
        "consumer_secret = log['secret'][0]\n",
        "access_token = log['key'][1]\n",
        "access_token_secret = log['secret'][1]\n",
        "\n",
        "\n",
        "# Setting up twitter api\n",
        "auth = tweepy.OAuthHandler(consumer_key, consumer_secret)\n",
        "auth.set_access_token(access_token, access_token_secret)\n",
        "api = tweepy.API(auth, wait_on_rate_limit=True)"
      ],
      "metadata": {
        "id": "KBhJdihPbvIC"
      },
      "execution_count": 11,
      "outputs": []
    },
    {
      "cell_type": "code",
      "source": [
        "# Extract 100 tweets from BillGates account\n",
        "post = api.user_timeline(screen_name=\"BillGates\", count=100, lang=\"en\",tweet_mode=\"extended\")\n",
        "\n",
        "# Show the 5 most recent tweets from the account\n",
        "i = 0\n",
        "for tweet in post[0:5]:\n",
        "  i +=1\n",
        "  print(str(i) + \") \" + tweet.full_text + \"\\n\")"
      ],
      "metadata": {
        "colab": {
          "base_uri": "https://localhost:8080/"
        },
        "id": "NJ0djnNEd3Oi",
        "outputId": "5eadc5ab-c765-4533-bbf1-204237db8976"
      },
      "execution_count": 16,
      "outputs": [
        {
          "output_type": "stream",
          "name": "stdout",
          "text": [
            "1) We’re so grateful for Japan’s generosity. We all have a part to play in the #FightForWhatCounts: ending AIDS, tuberculosis, and malaria and building resilient health systems that will keep us safe from future pandemics. https://t.co/1stigbWdFI\n",
            "\n",
            "2) Interesting findings from @zearned on how to tackle learning disruptions from COVID-19 and help all kids move forward in their math learning. https://t.co/kjthRco0bl\n",
            "\n",
            "3) It’s encouraging that there’s more public support for taking big steps to avoid a climate disaster than ever before. My book suggests a lot of ideas – and it’s now available in paperback: https://t.co/PpoWh22buC https://t.co/Un1BME9sst\n",
            "\n",
            "4) It’s easy to forget how scary polio was in the United States and around the world. This is a powerful reminder. https://t.co/P22TxXJEW4\n",
            "\n",
            "5) Damaris Matoke-Muhia is changing the fight against malaria and gender inequity. And her personal story is phenomenal. https://t.co/gxlrlkex08\n",
            "\n"
          ]
        }
      ]
    },
    {
      "cell_type": "code",
      "source": [
        "#Create a dataframe with a column called Tweets\n",
        "df = pd.DataFrame([tweet.full_text for tweet in post], columns=[\"tweets\"])\n",
        "\n",
        "# Preview the first 5 rows\n",
        "df.head()"
      ],
      "metadata": {
        "colab": {
          "base_uri": "https://localhost:8080/",
          "height": 206
        },
        "id": "N8tSM4zZemfe",
        "outputId": "f644f107-8c47-40dc-dc1d-a38b758f7ec5"
      },
      "execution_count": 26,
      "outputs": [
        {
          "output_type": "execute_result",
          "data": {
            "text/plain": [
              "                                              tweets\n",
              "0  We’re so grateful for Japan’s generosity. We a...\n",
              "1  Interesting findings from @zearned on how to t...\n",
              "2  It’s encouraging that there’s more public supp...\n",
              "3  It’s easy to forget how scary polio was in the...\n",
              "4  Damaris Matoke-Muhia is changing the fight aga..."
            ],
            "text/html": [
              "\n",
              "  <div id=\"df-59273286-44f3-410d-93c9-fd79c3677f68\">\n",
              "    <div class=\"colab-df-container\">\n",
              "      <div>\n",
              "<style scoped>\n",
              "    .dataframe tbody tr th:only-of-type {\n",
              "        vertical-align: middle;\n",
              "    }\n",
              "\n",
              "    .dataframe tbody tr th {\n",
              "        vertical-align: top;\n",
              "    }\n",
              "\n",
              "    .dataframe thead th {\n",
              "        text-align: right;\n",
              "    }\n",
              "</style>\n",
              "<table border=\"1\" class=\"dataframe\">\n",
              "  <thead>\n",
              "    <tr style=\"text-align: right;\">\n",
              "      <th></th>\n",
              "      <th>tweets</th>\n",
              "    </tr>\n",
              "  </thead>\n",
              "  <tbody>\n",
              "    <tr>\n",
              "      <th>0</th>\n",
              "      <td>We’re so grateful for Japan’s generosity. We a...</td>\n",
              "    </tr>\n",
              "    <tr>\n",
              "      <th>1</th>\n",
              "      <td>Interesting findings from @zearned on how to t...</td>\n",
              "    </tr>\n",
              "    <tr>\n",
              "      <th>2</th>\n",
              "      <td>It’s encouraging that there’s more public supp...</td>\n",
              "    </tr>\n",
              "    <tr>\n",
              "      <th>3</th>\n",
              "      <td>It’s easy to forget how scary polio was in the...</td>\n",
              "    </tr>\n",
              "    <tr>\n",
              "      <th>4</th>\n",
              "      <td>Damaris Matoke-Muhia is changing the fight aga...</td>\n",
              "    </tr>\n",
              "  </tbody>\n",
              "</table>\n",
              "</div>\n",
              "      <button class=\"colab-df-convert\" onclick=\"convertToInteractive('df-59273286-44f3-410d-93c9-fd79c3677f68')\"\n",
              "              title=\"Convert this dataframe to an interactive table.\"\n",
              "              style=\"display:none;\">\n",
              "        \n",
              "  <svg xmlns=\"http://www.w3.org/2000/svg\" height=\"24px\"viewBox=\"0 0 24 24\"\n",
              "       width=\"24px\">\n",
              "    <path d=\"M0 0h24v24H0V0z\" fill=\"none\"/>\n",
              "    <path d=\"M18.56 5.44l.94 2.06.94-2.06 2.06-.94-2.06-.94-.94-2.06-.94 2.06-2.06.94zm-11 1L8.5 8.5l.94-2.06 2.06-.94-2.06-.94L8.5 2.5l-.94 2.06-2.06.94zm10 10l.94 2.06.94-2.06 2.06-.94-2.06-.94-.94-2.06-.94 2.06-2.06.94z\"/><path d=\"M17.41 7.96l-1.37-1.37c-.4-.4-.92-.59-1.43-.59-.52 0-1.04.2-1.43.59L10.3 9.45l-7.72 7.72c-.78.78-.78 2.05 0 2.83L4 21.41c.39.39.9.59 1.41.59.51 0 1.02-.2 1.41-.59l7.78-7.78 2.81-2.81c.8-.78.8-2.07 0-2.86zM5.41 20L4 18.59l7.72-7.72 1.47 1.35L5.41 20z\"/>\n",
              "  </svg>\n",
              "      </button>\n",
              "      \n",
              "  <style>\n",
              "    .colab-df-container {\n",
              "      display:flex;\n",
              "      flex-wrap:wrap;\n",
              "      gap: 12px;\n",
              "    }\n",
              "\n",
              "    .colab-df-convert {\n",
              "      background-color: #E8F0FE;\n",
              "      border: none;\n",
              "      border-radius: 50%;\n",
              "      cursor: pointer;\n",
              "      display: none;\n",
              "      fill: #1967D2;\n",
              "      height: 32px;\n",
              "      padding: 0 0 0 0;\n",
              "      width: 32px;\n",
              "    }\n",
              "\n",
              "    .colab-df-convert:hover {\n",
              "      background-color: #E2EBFA;\n",
              "      box-shadow: 0px 1px 2px rgba(60, 64, 67, 0.3), 0px 1px 3px 1px rgba(60, 64, 67, 0.15);\n",
              "      fill: #174EA6;\n",
              "    }\n",
              "\n",
              "    [theme=dark] .colab-df-convert {\n",
              "      background-color: #3B4455;\n",
              "      fill: #D2E3FC;\n",
              "    }\n",
              "\n",
              "    [theme=dark] .colab-df-convert:hover {\n",
              "      background-color: #434B5C;\n",
              "      box-shadow: 0px 1px 3px 1px rgba(0, 0, 0, 0.15);\n",
              "      filter: drop-shadow(0px 1px 2px rgba(0, 0, 0, 0.3));\n",
              "      fill: #FFFFFF;\n",
              "    }\n",
              "  </style>\n",
              "\n",
              "      <script>\n",
              "        const buttonEl =\n",
              "          document.querySelector('#df-59273286-44f3-410d-93c9-fd79c3677f68 button.colab-df-convert');\n",
              "        buttonEl.style.display =\n",
              "          google.colab.kernel.accessAllowed ? 'block' : 'none';\n",
              "\n",
              "        async function convertToInteractive(key) {\n",
              "          const element = document.querySelector('#df-59273286-44f3-410d-93c9-fd79c3677f68');\n",
              "          const dataTable =\n",
              "            await google.colab.kernel.invokeFunction('convertToInteractive',\n",
              "                                                     [key], {});\n",
              "          if (!dataTable) return;\n",
              "\n",
              "          const docLinkHtml = 'Like what you see? Visit the ' +\n",
              "            '<a target=\"_blank\" href=https://colab.research.google.com/notebooks/data_table.ipynb>data table notebook</a>'\n",
              "            + ' to learn more about interactive tables.';\n",
              "          element.innerHTML = '';\n",
              "          dataTable['output_type'] = 'display_data';\n",
              "          await google.colab.output.renderOutput(dataTable, element);\n",
              "          const docLink = document.createElement('div');\n",
              "          docLink.innerHTML = docLinkHtml;\n",
              "          element.appendChild(docLink);\n",
              "        }\n",
              "      </script>\n",
              "    </div>\n",
              "  </div>\n",
              "  "
            ]
          },
          "metadata": {},
          "execution_count": 26
        }
      ]
    },
    {
      "cell_type": "code",
      "source": [
        "# Clean the text\n",
        "\n",
        "# Create a funtion to clean tweets\n",
        "\n",
        "def cleanTxt(text):\n",
        "  text = re.sub(r\"@[A-Za-z0-9]+\", \"\", text) #Remove @mentions\n",
        "  text = re.sub(r\"#\", \"\", text) #Removing the '#' symbol\n",
        "  test = re.sub(r'RT[\\s]+',\"\", text) #Removing RT\n",
        "  text = re.sub(r\"https?:\\/\\/\\S+\", \"\", text) #Remove the hyper link\n",
        "\n",
        "  return text\n",
        "\n",
        "df[\"tweets\"] = df[\"tweets\"].apply(cleanTxt)\n",
        "\n",
        "# Show first five rows\n",
        "df.head()"
      ],
      "metadata": {
        "colab": {
          "base_uri": "https://localhost:8080/",
          "height": 206
        },
        "id": "ENCrhtf2gXE9",
        "outputId": "85279001-382d-41f1-d9bc-b89cd5f06376"
      },
      "execution_count": 36,
      "outputs": [
        {
          "output_type": "execute_result",
          "data": {
            "text/plain": [
              "                                              tweets\n",
              "0  We’re so grateful for Japan’s generosity. We a...\n",
              "1  Interesting findings from  on how to tackle le...\n",
              "2  It’s encouraging that there’s more public supp...\n",
              "3  It’s easy to forget how scary polio was in the...\n",
              "4  Damaris Matoke-Muhia is changing the fight aga..."
            ],
            "text/html": [
              "\n",
              "  <div id=\"df-a10e7d03-c802-49eb-a0e7-1b1391f2e496\">\n",
              "    <div class=\"colab-df-container\">\n",
              "      <div>\n",
              "<style scoped>\n",
              "    .dataframe tbody tr th:only-of-type {\n",
              "        vertical-align: middle;\n",
              "    }\n",
              "\n",
              "    .dataframe tbody tr th {\n",
              "        vertical-align: top;\n",
              "    }\n",
              "\n",
              "    .dataframe thead th {\n",
              "        text-align: right;\n",
              "    }\n",
              "</style>\n",
              "<table border=\"1\" class=\"dataframe\">\n",
              "  <thead>\n",
              "    <tr style=\"text-align: right;\">\n",
              "      <th></th>\n",
              "      <th>tweets</th>\n",
              "    </tr>\n",
              "  </thead>\n",
              "  <tbody>\n",
              "    <tr>\n",
              "      <th>0</th>\n",
              "      <td>We’re so grateful for Japan’s generosity. We a...</td>\n",
              "    </tr>\n",
              "    <tr>\n",
              "      <th>1</th>\n",
              "      <td>Interesting findings from  on how to tackle le...</td>\n",
              "    </tr>\n",
              "    <tr>\n",
              "      <th>2</th>\n",
              "      <td>It’s encouraging that there’s more public supp...</td>\n",
              "    </tr>\n",
              "    <tr>\n",
              "      <th>3</th>\n",
              "      <td>It’s easy to forget how scary polio was in the...</td>\n",
              "    </tr>\n",
              "    <tr>\n",
              "      <th>4</th>\n",
              "      <td>Damaris Matoke-Muhia is changing the fight aga...</td>\n",
              "    </tr>\n",
              "  </tbody>\n",
              "</table>\n",
              "</div>\n",
              "      <button class=\"colab-df-convert\" onclick=\"convertToInteractive('df-a10e7d03-c802-49eb-a0e7-1b1391f2e496')\"\n",
              "              title=\"Convert this dataframe to an interactive table.\"\n",
              "              style=\"display:none;\">\n",
              "        \n",
              "  <svg xmlns=\"http://www.w3.org/2000/svg\" height=\"24px\"viewBox=\"0 0 24 24\"\n",
              "       width=\"24px\">\n",
              "    <path d=\"M0 0h24v24H0V0z\" fill=\"none\"/>\n",
              "    <path d=\"M18.56 5.44l.94 2.06.94-2.06 2.06-.94-2.06-.94-.94-2.06-.94 2.06-2.06.94zm-11 1L8.5 8.5l.94-2.06 2.06-.94-2.06-.94L8.5 2.5l-.94 2.06-2.06.94zm10 10l.94 2.06.94-2.06 2.06-.94-2.06-.94-.94-2.06-.94 2.06-2.06.94z\"/><path d=\"M17.41 7.96l-1.37-1.37c-.4-.4-.92-.59-1.43-.59-.52 0-1.04.2-1.43.59L10.3 9.45l-7.72 7.72c-.78.78-.78 2.05 0 2.83L4 21.41c.39.39.9.59 1.41.59.51 0 1.02-.2 1.41-.59l7.78-7.78 2.81-2.81c.8-.78.8-2.07 0-2.86zM5.41 20L4 18.59l7.72-7.72 1.47 1.35L5.41 20z\"/>\n",
              "  </svg>\n",
              "      </button>\n",
              "      \n",
              "  <style>\n",
              "    .colab-df-container {\n",
              "      display:flex;\n",
              "      flex-wrap:wrap;\n",
              "      gap: 12px;\n",
              "    }\n",
              "\n",
              "    .colab-df-convert {\n",
              "      background-color: #E8F0FE;\n",
              "      border: none;\n",
              "      border-radius: 50%;\n",
              "      cursor: pointer;\n",
              "      display: none;\n",
              "      fill: #1967D2;\n",
              "      height: 32px;\n",
              "      padding: 0 0 0 0;\n",
              "      width: 32px;\n",
              "    }\n",
              "\n",
              "    .colab-df-convert:hover {\n",
              "      background-color: #E2EBFA;\n",
              "      box-shadow: 0px 1px 2px rgba(60, 64, 67, 0.3), 0px 1px 3px 1px rgba(60, 64, 67, 0.15);\n",
              "      fill: #174EA6;\n",
              "    }\n",
              "\n",
              "    [theme=dark] .colab-df-convert {\n",
              "      background-color: #3B4455;\n",
              "      fill: #D2E3FC;\n",
              "    }\n",
              "\n",
              "    [theme=dark] .colab-df-convert:hover {\n",
              "      background-color: #434B5C;\n",
              "      box-shadow: 0px 1px 3px 1px rgba(0, 0, 0, 0.15);\n",
              "      filter: drop-shadow(0px 1px 2px rgba(0, 0, 0, 0.3));\n",
              "      fill: #FFFFFF;\n",
              "    }\n",
              "  </style>\n",
              "\n",
              "      <script>\n",
              "        const buttonEl =\n",
              "          document.querySelector('#df-a10e7d03-c802-49eb-a0e7-1b1391f2e496 button.colab-df-convert');\n",
              "        buttonEl.style.display =\n",
              "          google.colab.kernel.accessAllowed ? 'block' : 'none';\n",
              "\n",
              "        async function convertToInteractive(key) {\n",
              "          const element = document.querySelector('#df-a10e7d03-c802-49eb-a0e7-1b1391f2e496');\n",
              "          const dataTable =\n",
              "            await google.colab.kernel.invokeFunction('convertToInteractive',\n",
              "                                                     [key], {});\n",
              "          if (!dataTable) return;\n",
              "\n",
              "          const docLinkHtml = 'Like what you see? Visit the ' +\n",
              "            '<a target=\"_blank\" href=https://colab.research.google.com/notebooks/data_table.ipynb>data table notebook</a>'\n",
              "            + ' to learn more about interactive tables.';\n",
              "          element.innerHTML = '';\n",
              "          dataTable['output_type'] = 'display_data';\n",
              "          await google.colab.output.renderOutput(dataTable, element);\n",
              "          const docLink = document.createElement('div');\n",
              "          docLink.innerHTML = docLinkHtml;\n",
              "          element.appendChild(docLink);\n",
              "        }\n",
              "      </script>\n",
              "    </div>\n",
              "  </div>\n",
              "  "
            ]
          },
          "metadata": {},
          "execution_count": 36
        }
      ]
    },
    {
      "cell_type": "markdown",
      "source": [
        "###Create two new columns to store all of the subjectivity and polarity\n",
        "\n",
        "- The subjectivity tells how subjective or opinionated a text is\n"
      ],
      "metadata": {
        "id": "D5f4xrJBlQrl"
      }
    },
    {
      "cell_type": "code",
      "source": [
        "# Create a function to get subjectivity\n",
        "def getSubjectivity(text):\n",
        "  return TextBlob(text).sentiment.subjectivity\n",
        "\n",
        "# Create a fucntion to get polarity\n",
        "def getPolarity(text):\n",
        "  return TextBlob(text).sentiment.polarity\n",
        "\n",
        "# Create two new columns\n",
        "df[\"subjectivity\"] = df[\"tweets\"].apply(getSubjectivity)\n",
        "df[\"polarity\"] = df[\"tweets\"].apply(getPolarity)\n",
        "\n",
        "#Show first five row of the new dataframe\n",
        "df.head()"
      ],
      "metadata": {
        "colab": {
          "base_uri": "https://localhost:8080/",
          "height": 206
        },
        "id": "QiNizOvxlbiy",
        "outputId": "0f32a380-23e9-4531-c775-9cf1bc9a8cf4"
      },
      "execution_count": 37,
      "outputs": [
        {
          "output_type": "execute_result",
          "data": {
            "text/plain": [
              "                                              tweets  subjectivity  polarity\n",
              "0  We’re so grateful for Japan’s generosity. We a...      0.312500  0.250000\n",
              "1  Interesting findings from  on how to tackle le...      0.500000  0.500000\n",
              "2  It’s encouraging that there’s more public supp...      0.266667  0.225000\n",
              "3  It’s easy to forget how scary polio was in the...      0.944444  0.077778\n",
              "4  Damaris Matoke-Muhia is changing the fight aga...      0.400000  0.250000"
            ],
            "text/html": [
              "\n",
              "  <div id=\"df-a88b244a-af5d-4284-b08c-7412cd4a1bdc\">\n",
              "    <div class=\"colab-df-container\">\n",
              "      <div>\n",
              "<style scoped>\n",
              "    .dataframe tbody tr th:only-of-type {\n",
              "        vertical-align: middle;\n",
              "    }\n",
              "\n",
              "    .dataframe tbody tr th {\n",
              "        vertical-align: top;\n",
              "    }\n",
              "\n",
              "    .dataframe thead th {\n",
              "        text-align: right;\n",
              "    }\n",
              "</style>\n",
              "<table border=\"1\" class=\"dataframe\">\n",
              "  <thead>\n",
              "    <tr style=\"text-align: right;\">\n",
              "      <th></th>\n",
              "      <th>tweets</th>\n",
              "      <th>subjectivity</th>\n",
              "      <th>polarity</th>\n",
              "    </tr>\n",
              "  </thead>\n",
              "  <tbody>\n",
              "    <tr>\n",
              "      <th>0</th>\n",
              "      <td>We’re so grateful for Japan’s generosity. We a...</td>\n",
              "      <td>0.312500</td>\n",
              "      <td>0.250000</td>\n",
              "    </tr>\n",
              "    <tr>\n",
              "      <th>1</th>\n",
              "      <td>Interesting findings from  on how to tackle le...</td>\n",
              "      <td>0.500000</td>\n",
              "      <td>0.500000</td>\n",
              "    </tr>\n",
              "    <tr>\n",
              "      <th>2</th>\n",
              "      <td>It’s encouraging that there’s more public supp...</td>\n",
              "      <td>0.266667</td>\n",
              "      <td>0.225000</td>\n",
              "    </tr>\n",
              "    <tr>\n",
              "      <th>3</th>\n",
              "      <td>It’s easy to forget how scary polio was in the...</td>\n",
              "      <td>0.944444</td>\n",
              "      <td>0.077778</td>\n",
              "    </tr>\n",
              "    <tr>\n",
              "      <th>4</th>\n",
              "      <td>Damaris Matoke-Muhia is changing the fight aga...</td>\n",
              "      <td>0.400000</td>\n",
              "      <td>0.250000</td>\n",
              "    </tr>\n",
              "  </tbody>\n",
              "</table>\n",
              "</div>\n",
              "      <button class=\"colab-df-convert\" onclick=\"convertToInteractive('df-a88b244a-af5d-4284-b08c-7412cd4a1bdc')\"\n",
              "              title=\"Convert this dataframe to an interactive table.\"\n",
              "              style=\"display:none;\">\n",
              "        \n",
              "  <svg xmlns=\"http://www.w3.org/2000/svg\" height=\"24px\"viewBox=\"0 0 24 24\"\n",
              "       width=\"24px\">\n",
              "    <path d=\"M0 0h24v24H0V0z\" fill=\"none\"/>\n",
              "    <path d=\"M18.56 5.44l.94 2.06.94-2.06 2.06-.94-2.06-.94-.94-2.06-.94 2.06-2.06.94zm-11 1L8.5 8.5l.94-2.06 2.06-.94-2.06-.94L8.5 2.5l-.94 2.06-2.06.94zm10 10l.94 2.06.94-2.06 2.06-.94-2.06-.94-.94-2.06-.94 2.06-2.06.94z\"/><path d=\"M17.41 7.96l-1.37-1.37c-.4-.4-.92-.59-1.43-.59-.52 0-1.04.2-1.43.59L10.3 9.45l-7.72 7.72c-.78.78-.78 2.05 0 2.83L4 21.41c.39.39.9.59 1.41.59.51 0 1.02-.2 1.41-.59l7.78-7.78 2.81-2.81c.8-.78.8-2.07 0-2.86zM5.41 20L4 18.59l7.72-7.72 1.47 1.35L5.41 20z\"/>\n",
              "  </svg>\n",
              "      </button>\n",
              "      \n",
              "  <style>\n",
              "    .colab-df-container {\n",
              "      display:flex;\n",
              "      flex-wrap:wrap;\n",
              "      gap: 12px;\n",
              "    }\n",
              "\n",
              "    .colab-df-convert {\n",
              "      background-color: #E8F0FE;\n",
              "      border: none;\n",
              "      border-radius: 50%;\n",
              "      cursor: pointer;\n",
              "      display: none;\n",
              "      fill: #1967D2;\n",
              "      height: 32px;\n",
              "      padding: 0 0 0 0;\n",
              "      width: 32px;\n",
              "    }\n",
              "\n",
              "    .colab-df-convert:hover {\n",
              "      background-color: #E2EBFA;\n",
              "      box-shadow: 0px 1px 2px rgba(60, 64, 67, 0.3), 0px 1px 3px 1px rgba(60, 64, 67, 0.15);\n",
              "      fill: #174EA6;\n",
              "    }\n",
              "\n",
              "    [theme=dark] .colab-df-convert {\n",
              "      background-color: #3B4455;\n",
              "      fill: #D2E3FC;\n",
              "    }\n",
              "\n",
              "    [theme=dark] .colab-df-convert:hover {\n",
              "      background-color: #434B5C;\n",
              "      box-shadow: 0px 1px 3px 1px rgba(0, 0, 0, 0.15);\n",
              "      filter: drop-shadow(0px 1px 2px rgba(0, 0, 0, 0.3));\n",
              "      fill: #FFFFFF;\n",
              "    }\n",
              "  </style>\n",
              "\n",
              "      <script>\n",
              "        const buttonEl =\n",
              "          document.querySelector('#df-a88b244a-af5d-4284-b08c-7412cd4a1bdc button.colab-df-convert');\n",
              "        buttonEl.style.display =\n",
              "          google.colab.kernel.accessAllowed ? 'block' : 'none';\n",
              "\n",
              "        async function convertToInteractive(key) {\n",
              "          const element = document.querySelector('#df-a88b244a-af5d-4284-b08c-7412cd4a1bdc');\n",
              "          const dataTable =\n",
              "            await google.colab.kernel.invokeFunction('convertToInteractive',\n",
              "                                                     [key], {});\n",
              "          if (!dataTable) return;\n",
              "\n",
              "          const docLinkHtml = 'Like what you see? Visit the ' +\n",
              "            '<a target=\"_blank\" href=https://colab.research.google.com/notebooks/data_table.ipynb>data table notebook</a>'\n",
              "            + ' to learn more about interactive tables.';\n",
              "          element.innerHTML = '';\n",
              "          dataTable['output_type'] = 'display_data';\n",
              "          await google.colab.output.renderOutput(dataTable, element);\n",
              "          const docLink = document.createElement('div');\n",
              "          docLink.innerHTML = docLinkHtml;\n",
              "          element.appendChild(docLink);\n",
              "        }\n",
              "      </script>\n",
              "    </div>\n",
              "  </div>\n",
              "  "
            ]
          },
          "metadata": {},
          "execution_count": 37
        }
      ]
    },
    {
      "cell_type": "markdown",
      "source": [
        "###Check how the sentiment are distributed\n",
        "A good way to do this is by understanding the common word by plot them using word cloud also know as text cloud"
      ],
      "metadata": {
        "id": "7bJVhXxnwb1A"
      }
    },
    {
      "cell_type": "code",
      "source": [
        "# Plot of words using WordCloud\n",
        "allwords = \" \".join([tweets for tweets in df[\"tweets\"]])\n",
        "wordCloud = WordCloud(width=500, height=300,random_state=28, max_font_size=119 ).generate(allwords)\n",
        "plt.imshow(wordCloud, interpolation=\"bilinear\")\n",
        "plt.axis(\"off\")"
      ],
      "metadata": {
        "colab": {
          "base_uri": "https://localhost:8080/",
          "height": 273
        },
        "id": "iarSElYDnfD7",
        "outputId": "16144d2f-d43c-455e-a674-5d0f236256b5"
      },
      "execution_count": 40,
      "outputs": [
        {
          "output_type": "execute_result",
          "data": {
            "text/plain": [
              "(-0.5, 499.5, 299.5, -0.5)"
            ]
          },
          "metadata": {},
          "execution_count": 40
        },
        {
          "output_type": "display_data",
          "data": {
            "text/plain": [
              "<Figure size 432x288 with 1 Axes>"
            ],
            "image/png": "[encoded data removed]"
          },
          "metadata": {}
        }
      ]
    },
    {
      "cell_type": "code",
      "source": [
        "#Create a function to compute the negative, neutral and positive analysis\n",
        "def getAnalysis(score):\n",
        "  if score <0:\n",
        "    return \"Negative\"\n",
        "  elif score >0:\n",
        "    return \"Positive\"\n",
        "  else:\n",
        "    return \"Neutral\"\n",
        "\n",
        "df[\"analysis\"] = df[\"polarity\"].apply(getAnalysis)\n",
        "\n",
        "# Show first five of new df frame\n",
        "df.head()"
      ],
      "metadata": {
        "colab": {
          "base_uri": "https://localhost:8080/",
          "height": 206
        },
        "id": "7771QpU-xw_v",
        "outputId": "5f1a8ca0-2282-4a03-ace2-cce6e630b687"
      },
      "execution_count": 42,
      "outputs": [
        {
          "output_type": "execute_result",
          "data": {
            "text/plain": [
              "                                              tweets  subjectivity  polarity  \\\n",
              "0  We’re so grateful for Japan’s generosity. We a...      0.312500  0.250000   \n",
              "1  Interesting findings from  on how to tackle le...      0.500000  0.500000   \n",
              "2  It’s encouraging that there’s more public supp...      0.266667  0.225000   \n",
              "3  It’s easy to forget how scary polio was in the...      0.944444  0.077778   \n",
              "4  Damaris Matoke-Muhia is changing the fight aga...      0.400000  0.250000   \n",
              "\n",
              "   analysis  \n",
              "0  Positive  \n",
              "1  Positive  \n",
              "2  Positive  \n",
              "3  Positive  \n",
              "4  Positive  "
            ],
            "text/html": [
              "\n",
              "  <div id=\"df-87af7d63-0b7b-465c-bcd0-7e082f82b525\">\n",
              "    <div class=\"colab-df-container\">\n",
              "      <div>\n",
              "<style scoped>\n",
              "    .dataframe tbody tr th:only-of-type {\n",
              "        vertical-align: middle;\n",
              "    }\n",
              "\n",
              "    .dataframe tbody tr th {\n",
              "        vertical-align: top;\n",
              "    }\n",
              "\n",
              "    .dataframe thead th {\n",
              "        text-align: right;\n",
              "    }\n",
              "</style>\n",
              "<table border=\"1\" class=\"dataframe\">\n",
              "  <thead>\n",
              "    <tr style=\"text-align: right;\">\n",
              "      <th></th>\n",
              "      <th>tweets</th>\n",
              "      <th>subjectivity</th>\n",
              "      <th>polarity</th>\n",
              "      <th>analysis</th>\n",
              "    </tr>\n",
              "  </thead>\n",
              "  <tbody>\n",
              "    <tr>\n",
              "      <th>0</th>\n",
              "      <td>We’re so grateful for Japan’s generosity. We a...</td>\n",
              "      <td>0.312500</td>\n",
              "      <td>0.250000</td>\n",
              "      <td>Positive</td>\n",
              "    </tr>\n",
              "    <tr>\n",
              "      <th>1</th>\n",
              "      <td>Interesting findings from  on how to tackle le...</td>\n",
              "      <td>0.500000</td>\n",
              "      <td>0.500000</td>\n",
              "      <td>Positive</td>\n",
              "    </tr>\n",
              "    <tr>\n",
              "      <th>2</th>\n",
              "      <td>It’s encouraging that there’s more public supp...</td>\n",
              "      <td>0.266667</td>\n",
              "      <td>0.225000</td>\n",
              "      <td>Positive</td>\n",
              "    </tr>\n",
              "    <tr>\n",
              "      <th>3</th>\n",
              "      <td>It’s easy to forget how scary polio was in the...</td>\n",
              "      <td>0.944444</td>\n",
              "      <td>0.077778</td>\n",
              "      <td>Positive</td>\n",
              "    </tr>\n",
              "    <tr>\n",
              "      <th>4</th>\n",
              "      <td>Damaris Matoke-Muhia is changing the fight aga...</td>\n",
              "      <td>0.400000</td>\n",
              "      <td>0.250000</td>\n",
              "      <td>Positive</td>\n",
              "    </tr>\n",
              "  </tbody>\n",
              "</table>\n",
              "</div>\n",
              "      <button class=\"colab-df-convert\" onclick=\"convertToInteractive('df-87af7d63-0b7b-465c-bcd0-7e082f82b525')\"\n",
              "              title=\"Convert this dataframe to an interactive table.\"\n",
              "              style=\"display:none;\">\n",
              "        \n",
              "  <svg xmlns=\"http://www.w3.org/2000/svg\" height=\"24px\"viewBox=\"0 0 24 24\"\n",
              "       width=\"24px\">\n",
              "    <path d=\"M0 0h24v24H0V0z\" fill=\"none\"/>\n",
              "    <path d=\"M18.56 5.44l.94 2.06.94-2.06 2.06-.94-2.06-.94-.94-2.06-.94 2.06-2.06.94zm-11 1L8.5 8.5l.94-2.06 2.06-.94-2.06-.94L8.5 2.5l-.94 2.06-2.06.94zm10 10l.94 2.06.94-2.06 2.06-.94-2.06-.94-.94-2.06-.94 2.06-2.06.94z\"/><path d=\"M17.41 7.96l-1.37-1.37c-.4-.4-.92-.59-1.43-.59-.52 0-1.04.2-1.43.59L10.3 9.45l-7.72 7.72c-.78.78-.78 2.05 0 2.83L4 21.41c.39.39.9.59 1.41.59.51 0 1.02-.2 1.41-.59l7.78-7.78 2.81-2.81c.8-.78.8-2.07 0-2.86zM5.41 20L4 18.59l7.72-7.72 1.47 1.35L5.41 20z\"/>\n",
              "  </svg>\n",
              "      </button>\n",
              "      \n",
              "  <style>\n",
              "    .colab-df-container {\n",
              "      display:flex;\n",
              "      flex-wrap:wrap;\n",
              "      gap: 12px;\n",
              "    }\n",
              "\n",
              "    .colab-df-convert {\n",
              "      background-color: #E8F0FE;\n",
              "      border: none;\n",
              "      border-radius: 50%;\n",
              "      cursor: pointer;\n",
              "      display: none;\n",
              "      fill: #1967D2;\n",
              "      height: 32px;\n",
              "      padding: 0 0 0 0;\n",
              "      width: 32px;\n",
              "    }\n",
              "\n",
              "    .colab-df-convert:hover {\n",
              "      background-color: #E2EBFA;\n",
              "      box-shadow: 0px 1px 2px rgba(60, 64, 67, 0.3), 0px 1px 3px 1px rgba(60, 64, 67, 0.15);\n",
              "      fill: #174EA6;\n",
              "    }\n",
              "\n",
              "    [theme=dark] .colab-df-convert {\n",
              "      background-color: #3B4455;\n",
              "      fill: #D2E3FC;\n",
              "    }\n",
              "\n",
              "    [theme=dark] .colab-df-convert:hover {\n",
              "      background-color: #434B5C;\n",
              "      box-shadow: 0px 1px 3px 1px rgba(0, 0, 0, 0.15);\n",
              "      filter: drop-shadow(0px 1px 2px rgba(0, 0, 0, 0.3));\n",
              "      fill: #FFFFFF;\n",
              "    }\n",
              "  </style>\n",
              "\n",
              "      <script>\n",
              "        const buttonEl =\n",
              "          document.querySelector('#df-87af7d63-0b7b-465c-bcd0-7e082f82b525 button.colab-df-convert');\n",
              "        buttonEl.style.display =\n",
              "          google.colab.kernel.accessAllowed ? 'block' : 'none';\n",
              "\n",
              "        async function convertToInteractive(key) {\n",
              "          const element = document.querySelector('#df-87af7d63-0b7b-465c-bcd0-7e082f82b525');\n",
              "          const dataTable =\n",
              "            await google.colab.kernel.invokeFunction('convertToInteractive',\n",
              "                                                     [key], {});\n",
              "          if (!dataTable) return;\n",
              "\n",
              "          const docLinkHtml = 'Like what you see? Visit the ' +\n",
              "            '<a target=\"_blank\" href=https://colab.research.google.com/notebooks/data_table.ipynb>data table notebook</a>'\n",
              "            + ' to learn more about interactive tables.';\n",
              "          element.innerHTML = '';\n",
              "          dataTable['output_type'] = 'display_data';\n",
              "          await google.colab.output.renderOutput(dataTable, element);\n",
              "          const docLink = document.createElement('div');\n",
              "          docLink.innerHTML = docLinkHtml;\n",
              "          element.appendChild(docLink);\n",
              "        }\n",
              "      </script>\n",
              "    </div>\n",
              "  </div>\n",
              "  "
            ]
          },
          "metadata": {},
          "execution_count": 42
        }
      ]
    },
    {
      "cell_type": "code",
      "source": [
        "# Print all of the positive tweets\n",
        "j =1 \n",
        "sortedDF = df.sort_values(by=[\"polarity\"])\n",
        "for i in range(0, sortedDF.shape[0]):\n",
        "  if sortedDF[\"analysis\"][i] == \"Positive\":\n",
        "    print(str(j) + \") \" + sortedDF[\"tweets\"][i])\n",
        "    j += 1\n"
      ],
      "metadata": {
        "colab": {
          "base_uri": "https://localhost:8080/"
        },
        "id": "Ask7AXg5xziG",
        "outputId": "dae8d1d0-8150-4f77-cfba-1c999e6164cd"
      },
      "execution_count": 44,
      "outputs": [
        {
          "output_type": "stream",
          "name": "stdout",
          "text": [
            "1) We’re so grateful for Japan’s generosity. We all have a part to play in the FightForWhatCounts: ending AIDS, tuberculosis, and malaria and building resilient health systems that will keep us safe from future pandemics. \n",
            "2) Interesting findings from  on how to tackle learning disruptions from COVID-19 and help all kids move forward in their math learning. \n",
            "3) It’s encouraging that there’s more public support for taking big steps to avoid a climate disaster than ever before. My book suggests a lot of ideas – and it’s now available in paperback:  \n",
            "4) It’s easy to forget how scary polio was in the United States and around the world. This is a powerful reminder. \n",
            "5) Damaris Matoke-Muhia is changing the fight against malaria and gender inequity. And her personal story is phenomenal. \n",
            "6) I cannot agree with _HamidJafari more: women vaccinators are vitally important in reaching every last child with polio vaccines. Thank you to  and everyone in the   community for continuing to support the effort to EndPolio for good. \n",
            "7) Last year, I laid out a plan for eliminating greenhouse gas emissions. This year, there’s more momentum than ever before. How to Avoid a Climate Disaster is now available in paperback. \n",
            "8) Tony, you were an amazing public servant long before COVID-19 struck – and now you are a hero to millions of people, including me. \n",
            "9) I’m at my happiest when I’m learning – no matter how gross the subject matter. Today, I experienced the Meguro Parasitological Museum in Tokyo, and saw what is believed to be the world’s longest tapeworm. 10/10 would visit again. \n",
            "10)  _jp _vote Thank you for the great conversation about health and development. I appreciate your leadership and I’m impressed by the passion these young leaders have for global health. Arigatou gozaimasu.\n",
            "11) Thank you to the global health champions in Japan for your commitment to saving lives around the world. We must keep up the fight to make sure preventable emergencies never again derail our common pursuit of a better future. \n",
            "12) I’m excited that Dr. Helene Gayle and Ashish Dhawan have decided to join the ’s board:  They have been great partners to the foundation over the years—and in Helene’s case, a fantastic leader there. I’m looking forward to working with them. \n",
            "13) Eradicating malaria will be even harder following the COVID-19 pandemic. Thankfully, there are exciting innovations to eliminate malaria for good:  \n",
            "14) Mosquitoes need sugar more often than they need blood – it’s their Achilles heel:  \n",
            "15) As India celebrates its 75th Independence Day, I congratulate  for prioritizing healthcare and digital transformation while spearheading India’s development. India's progress in these sectors is inspiring and we are fortunate to partner in this journey AmritMahotsav\n",
            "16) While our fight against climate change is far from over, I’m more optimistic than ever that by working together, we can make a net-zero future of abundant, affordable, and clean energy a reality to people everywhere.\n",
            "17) The Inflation Reduction Act’s passage through Congress is nothing short of extraordinary. The United States is taking a historic step towards the clean energy economy we need to meet our climate goals.\n",
            "18) In the past decade,  has reached more than 1 million students and 20,000 teachers around the world. Here’s a look at the team’s new three-week course on climate:  \n",
            "19) Prime Minister Shinzo Abe understood that improving health is not only the right thing to do, it also makes the world safer and more prosperous. \n",
            "20) Wow, I’m blown away by your support. \n",
            "21) If you want to help teachers and students in the U.S., it’s hard to do better than giving through  — and you won’t find a better time to do it than now. I’m giving a 50% boost for every donation to DonorsChoose today.  \n",
            "22) Teachers deserve our thanks – and support. I’m partnering with  and boosting all donations today by 50% to help students get back to learning!  \n",
            "23) News that polio has been detected in New York wastewater samples is an urgent reminder: until we EndPolio for good, it remains a threat to us all. The global eradication strategy must be fully supported to protect people everywhere. \n",
            "24) Solving climate change is the hardest challenge humanity has ever faced but this would be a historic step forward. It represents our best chance to build an energy future in America that is cleaner, cheaper, and more secure. Let’s get it done. \n",
            "25) I've long admired his courage to ask tough questions and answer them in a way that is direct and entertaining. John’s new project, working to support maternal health, is worth checking out. \n",
            "26) I never thought of fighting poverty and disease as decreasing “world suck” and increasing awesome, but during our trip to Africa,  convinced me that it’s as good a description as any other. \n",
            "27) Jerad taught me how to make my own deerskin medicine bag while he explained the deeper meaning behind a Native tradition that goes back thousands of years. \n",
            "28) RT : It’s more important than ever that we understand how climate change will worsen existing health disparities. That’s why I…\n",
            "29) Jerad Koepp is the first Native educator to receive the Washington State Teacher of the Year award. I hope you’re as inspired by his work as I am. \n",
            "30) There’s never been a more important time to support teachers. 's goal is to empower them with free innovative curriculum and teaching tools:  \n",
            "31) I’m inspired by Jerad’s commitment to helping Native students embrace their culture and make the most of their talents. backtoschool \n",
            "32) Win or lose, I can’t think of a better way to spend a summer day than as a Pickler. \n",
            "33) Spending time with my best friend Warren never gets old. I’d flip Blizzards with you any day. \n",
            "34) During AIDS2022, we're celebrating  partnerships that have helped cut AIDS-related deaths by 65%. But the fight isn’t over. Investing in the Global Fund can help save 20 million more lives by 2026 and help prevent the next pandemic. \n",
            "35) We're announcing the second phase of ’s diagnostics accelerator. I’m hopeful that this new phase will make advances that help change the course of Alzheimer’s. \n",
            "36) Now, we need Congress to act quickly. I’m optimistic the U.S. can deliver on a clean energy future, but there’s no time to waste.\n",
            "37) Really excited to see Senators Schumer and Manchin come together in what could be a historic step forward for the climate. \n",
            "38) Fifty years ago, I started playing this little-known sport with a funny name. Now it’s all the rage. \n",
            "39) Hey , sharks are cool, but mosquitoes are deadly. Did you know mosquitoes kill more people in one day than sharks kill in 100 years? \n",
            "40) From Malawi to the United States, new cases of polio are a reminder that until we EndPolio for good, it remains a threat to all of us. \n",
            "41) This is heartbreaking. The world had made so much progress before COVID. There’s a lot of work ahead to get back to, and eventually exceed, pre-pandemic vaccination levels. \n",
            "42) Mr. Mandela exemplified how we can fight for progress, diminish stigmas, and spread hope. He played a crucial role in the progress we have made so far against HIV/AIDs. I will never forget the example that he set.\n",
            "43) This is one of my favorite photos ever. My dad, Mr. Mandela, and President Jimmy Carter hold infants born with HIV to dismiss the fear and stigma around touching people who live with the disease. \n",
            "44) Who better to recruit the next generation of clean tech innovators than Iron Man? \n",
            "45) I have an obligation to return my resources to society in ways that have the greatest impact for reducing suffering and improving lives. And I hope others in positions of great wealth and privilege will step up in this moment too.\n",
            "46) Although the foundation bears our names, basically half our resources have come from Warren Buffett. His incredible generosity is a huge reason why the foundation has been able to be so ambitious. I can never adequately express how much I appreciate his friendship and guidance. \n",
            "47) I am very proud of the foundation’s role in helping solve big problems like preventing pandemics, reducing childhood deaths, eradicating diseases, improving food security and climate adaptation, achieving gender equality, and improving educational outcomes.\n",
            "48) With the support and guidance of our board, we plan to increase our spending from nearly $6 billion per year today to $9 billion per year by 2026. To help make this spending increase possible, I am transferring $20 billion to the foundation’s endowment this month. \n",
            "49) Melinda and I started the  in 2000 because we believed that every person should have the chance to live a healthy and productive life. That vision remains the same, but the great crises of our time require all of us to do more. \n",
            "50) But I’m still optimistic. These setbacks are happening in the context of two decades’ worth of historic progress and I believe it is possible to mitigate the damage and get back to the progress the world was making.\n",
            "51) The pandemic is one of the biggest setbacks in history. The war on Ukraine is a gigantic tragedy for the entire world. The damage from climate change is already worse than most models predicted. The U.S. has taken a huge step backwards for gender equality and women’s health.\n",
            "52) Several huge global setbacks over the past few years have left many people discouraged and wondering whether the world is destined to get worse.\n",
            "53) When I was 13, computer science changed the course of my life. I was really lucky to have access to a computer that early on. I hope this initiative will give every student the same opportunity. \n",
            "54) Fusion will need to be an important part of our zero-emissions future. That’s why the work that _zap does is so exciting. \n",
            "55) If you’re a big tennis fan like I am, ’s profile on Althea Gibson is a grand slam. She was the first Black player to win Wimbledon. \n",
            "56) Happy 10th birthday to CRISPR, one of the most important inventions in medicine, biology, and agriculture. \n",
            "57) . is one of my favorite storytellers. I was wowed by his writing in The Lincoln Highway. \n",
            "58) I got to join the  team to talk about the incredible work they’re doing to accelerate climate innovation. I’m lucky to work with such smart and dedicated individuals. \n",
            "59) Today’s ruling makes it more challenging for the US to hit its climate goals. It’s now more important than ever for Congress to level the playing field for clean technologies.\n",
            "60) Being in New York is always fun – you never know who you’ll run into. It was great meeting you and Namrata! \n",
            "61) Here’s progress worth celebrating. More people have bank accounts than ever before:  \n",
            "62) It’s great to see countries and partners jointly sign the Kigali Declaration. It wouldn't have been possible without Kigali Summit hosts ,  &amp; ,  facilitators &amp; key donors like President  whose commitment help advance the fight.\n",
            "63) 1.7 billion people are affected by debilitating Neglected Tropical Diseases. Thankfully, an extraordinary public private partnership, and the donation of over 14 billion drugs, has meant that we're a step closer to a future where NTDs are NeglectedNoMore. \n",
            "64) How many tons of hydrogen does the world use each year?\n",
            "65) Daniel Boakye of  has spent 45 years working on solutions for neglected tropical diseases, including river blindness. As he says, “We have the tools we need. The priority now is to deploy them in the right way to get to elimination.” \n",
            "66) When most people think about what produces greenhouse gas emissions, they think about cars and electricity. But they add up to only about one third of the total. Clean hydrogen could help eliminate the rest:  \n",
            "67) Important guidance from  founder _hfillit outlining the path forward on Alzheimer’s: \n",
            "▪️ More – and better – biomarkers\n",
            "▪️ Exploratory trials\n",
            "▪️ Repurposed drugs\n",
            "\n",
            "68) My advice is simple: read a lot and discover a skill you enjoy. For some, that means being great at science or a great communicator. There’s so much opportunity to do good in the world.\n",
            "69) It made me think a lot about what I would tell my younger self. I remember this guy. A lot has changed since this photo, but I remember how excited I felt for the next chapter. \n",
            "70) I was recently asked what advice I would give to young people who want to make a positive impact on the world.\n",
            "71) What a great meeting with WA’s teacher of the year, Jared Koepp. He taught me a lot about the challenges that Native students face. \n",
            "72)  Very cool to hear about all your exciting research. Thanks for letting me be a jaramigo for the day!\n",
            "73)   It was great to meet you yesterday!\n",
            "74) I’m grateful for Warren’s gifts to support the foundation’s work and for our many years of friendship. When he decided in 2006 to make these gifts, it moved me to tears. It still does. \n",
            "75) The fact is, we’ve never been closer to ending polio. The huge progress Pakistan has made in the fight against polio is a reminder for why the world cannot lose sight of this goal. \n",
            "76) It really is mind-blowing how quickly safe, effective COVID-19 vaccines were made:  \n"
          ]
        }
      ]
    },
    {
      "cell_type": "code",
      "source": [
        "# Print all of the negative tweets\n",
        "j =1 \n",
        "sortedDF = df.sort_values(by=[\"polarity\"])\n",
        "for i in range(0, sortedDF.shape[0]):\n",
        "  if sortedDF[\"analysis\"][i] == \"Negative\":\n",
        "    print(str(j) + \") \" + sortedDF[\"tweets\"][i])\n",
        "    j += 1"
      ],
      "metadata": {
        "colab": {
          "base_uri": "https://localhost:8080/"
        },
        "id": "Oyo12T1S12Id",
        "outputId": "d9c13fa4-8711-4abc-c331-c37a5a96b3d4"
      },
      "execution_count": 45,
      "outputs": [
        {
          "output_type": "stream",
          "name": "stdout",
          "text": [
            "1) In the past 16 years the world has made immense strides in protecting children from life-threatening diarrhea. Today, I congratulate Nigeria on introducing this vaccine, which will protect generations of Nigerian children. \n",
            "2) Years ago, the idea of using mosquitoes as an ally in the fight against diseases sounded crazy. But as  of  explains, this innovative solution has already saved lives around the world. \n",
            "3) I am honored to receive this award. Thank you, Foreign Minister Hayashi. \n",
            "4) Inside a two-story brick building in Medellín, Colombia, scientists work long hours in muggy labs breeding millions and millions of mosquitoes:  \n",
            "5) This $369 billion investment will spark innovation, drive job creation, and reduce energy prices and emissions. It sets a clear example of what serious climate action looks like.\n",
            "6) “Outbreaks are inevitable, but pandemics are optional.” – \n",
            "\n",
            "This  video gives you a glimpse of how Big History is helping students connect the present to the past:  \n",
            "7) If we had stopped the COVID pandemic in less than 100 days, we could’ve saved over 98% of the lives lost. Here’s how we can prevent it from happening again:  \n",
            "8) As I look to the future, I plan to give virtually all of my wealth to the foundation. I will move down and eventually off of the list of the world’s richest people.\n",
            "9) Prime Minister Abe was a friend and partner of our foundation who helped save lives around the world by championing universal health coverage and programs like the Global Fund. I’m shocked and saddened by his death.\n",
            "10) Yesterday, I had a chance to spend the day focusing on climate – and the innovations that can prevent the very worst effects of climate change. \n"
          ]
        }
      ]
    },
    {
      "cell_type": "code",
      "source": [
        "# Print all of the neutral tweets\n",
        "j =1 \n",
        "sortedDF = df.sort_values(by=[\"polarity\"])\n",
        "for i in range(0, sortedDF.shape[0]):\n",
        "  if sortedDF[\"analysis\"][i] == \"Neutral\":\n",
        "    print(str(j) + \") \" + sortedDF[\"tweets\"][i])\n",
        "    j += 1"
      ],
      "metadata": {
        "colab": {
          "base_uri": "https://localhost:8080/"
        },
        "id": "VJ9M3z_i2CJ3",
        "outputId": "32632ef8-59e2-4500-fa94-82293afd222d"
      },
      "execution_count": 48,
      "outputs": [
        {
          "output_type": "stream",
          "name": "stdout",
          "text": [
            "1) Thank you, President Yoon, for your leadership in global health. I look forward to our continued partnership to reduce the burden of disease. \n",
            "2) It's here:  \n",
            "3) We cannot look away from the impact climate change is already having on the most vulnerable. \n",
            "4) RT : The Inflation Reduction Act of 2022 is a historic step that will move the U.S. closer to its climate and energy security…\n",
            "5) ._pb any tips for my form?\n",
            "6) Congratulations  for yet another milestone of administering 200crorevaccinations. We are grateful for our continued partnership with Indian vaccine manufacturers and the Indian government for mitigating the impact of COVID19.  \n",
            "7) Nelson Mandela's legacy lives on as a reminder that it’s possible to solve big challenges. I admired President Mandela for his courage to stand against apartheid and I came to know him personally for the fight against HIV/AIDs. \n",
            "8) “It’s also a reminder that it’s not just about having enough vaccines or therapeutics. It’s about figuring out how to help countries deploy them.”  \n",
            "9) You can find the answer here. \n",
            "10) If you want to understand what’s going on with politics in the United States, Why We’re Polarized by  is the book to pick up. \n",
            "11) This is a sad day. Reversing Roe v. Wade is an unjust and unacceptable setback. And it puts women’s lives at risk, especially the most disadvantaged.\n",
            "12) Through renewed investments in malaria and NTDs, we can help end these endemic diseases, and prevent future pandemics. \n",
            "13) The Power by  raises timely questions about the way people are connected by gender, family, community, and country. \n",
            "14) I guess we finally ran out of microchips. \n"
          ]
        }
      ]
    },
    {
      "cell_type": "code",
      "source": [
        "# plot the polarity and subjectivity \n",
        "plt.figure(figsize=(8,6))\n",
        "for i in range(0, df.shape[0]):\n",
        "  plt.scatter(df[\"polarity\"][i], df[\"subjectivity\"][i], color=\"Red\")\n",
        "\n",
        "plt.title(\"Sentiment Analysis\")\n",
        "plt.xlabel(\"Polarity\")\n",
        "plt.ylabel(\"Subjectivity\")\n"
      ],
      "metadata": {
        "colab": {
          "base_uri": "https://localhost:8080/",
          "height": 458
        },
        "id": "08hSJFj72fBY",
        "outputId": "772cedcd-24ea-4429-8634-bf97372698b5"
      },
      "execution_count": 49,
      "outputs": [
        {
          "output_type": "execute_result",
          "data": {
            "text/plain": [
              "Text(0, 0.5, 'Subjectivity')"
            ]
          },
          "metadata": {},
          "execution_count": 49
        },
        {
          "output_type": "display_data",
          "data": {
            "text/plain": [
              "<Figure size 576x432 with 1 Axes>"
            ],
            "image/png": "[encoded data removed]"
          },
          "metadata": {}
        }
      ]
    },
    {
      "cell_type": "code",
      "source": [
        "# Get percentage of positive tweet\n",
        "explode = (0.05, 0.05, 0.05)\n",
        "plt.pie(\n",
        "df.groupby(df['analysis'])[\"tweets\"].count()/df.shape[0] * 100,\n",
        "labels=df.groupby(df['analysis']).count().index,\n",
        "autopct='%1.1f%%',\n",
        "explode=[0.05, 0.05, 0.05]\n",
        ");\n",
        "plt.title(\"Distribution of Sentiment Analysis\")"
      ],
      "metadata": {
        "colab": {
          "base_uri": "https://localhost:8080/",
          "height": 302
        },
        "id": "oa_Zz8LY4jXu",
        "outputId": "89868b12-c9e7-47a3-be5e-dacf4a84c900"
      },
      "execution_count": 74,
      "outputs": [
        {
          "output_type": "execute_result",
          "data": {
            "text/plain": [
              "Text(0.5, 1.0, 'Distribution of Sentiment Analysis')"
            ]
          },
          "metadata": {},
          "execution_count": 74
        },
        {
          "output_type": "display_data",
          "data": {
            "text/plain": [
              "<Figure size 432x288 with 1 Axes>"
            ],
            "image/png": "[encoded data removed]"
          },
          "metadata": {}
        }
      ]
    }
  ]
}
